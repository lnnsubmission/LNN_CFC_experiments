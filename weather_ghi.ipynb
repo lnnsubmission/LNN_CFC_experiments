{
  "nbformat": 4,
  "nbformat_minor": 0,
  "metadata": {
    "colab": {
      "provenance": [],
      "toc_visible": true
    },
    "kernelspec": {
      "name": "python3",
      "display_name": "Python 3"
    },
    "language_info": {
      "name": "python"
    }
  },
  "cells": [
    {
      "cell_type": "code",
      "execution_count": null,
      "metadata": {
        "id": "2WuMftcnigjK"
      },
      "outputs": [],
      "source": [
        "!pip install ncps"
      ]
    },
    {
      "cell_type": "code",
      "source": [
        "import pandas as pd\n",
        "import numpy as np\n",
        "from sklearn.preprocessing import MinMaxScaler\n"
      ],
      "metadata": {
        "id": "W3t9IyPYimqu"
      },
      "execution_count": null,
      "outputs": []
    },
    {
      "cell_type": "code",
      "source": [
        "from google.colab import drive"
      ],
      "metadata": {
        "id": "XbeKpd5BirQl"
      },
      "execution_count": null,
      "outputs": []
    },
    {
      "cell_type": "code",
      "source": [
        "drive.mount('/content/drive/')"
      ],
      "metadata": {
        "id": "XvhbGhEUjCAm"
      },
      "execution_count": null,
      "outputs": []
    },
    {
      "cell_type": "code",
      "source": [
        "trgt=pd.read_csv('/content/drive/MyDrive/Data/la_main.csv')\n",
        "trgt_test=pd.read_csv('/content/drive/MyDrive/Data/la_main_test.csv')  #import the train and test csv"
      ],
      "metadata": {
        "id": "8CqC8mV1jIZd"
      },
      "execution_count": null,
      "outputs": []
    },
    {
      "cell_type": "code",
      "source": [
        "columns_to_drop=['Minute', 'Clearsky GHI',\n",
        "        'Dew Point', 'Solar Zenith Angle','Precipitable Water', 'Fill Flag']"
      ],
      "metadata": {
        "id": "WNxuphePjPSc"
      },
      "execution_count": null,
      "outputs": []
    },
    {
      "cell_type": "code",
      "source": [
        "trgt.drop(columns=columns_to_drop,inplace=True,errors='ignore')\n",
        "trgt_test.drop(columns=columns_to_drop,inplace=True,errors='ignore')"
      ],
      "metadata": {
        "id": "1c0kTYYpjSmm"
      },
      "execution_count": null,
      "outputs": []
    },
    {
      "cell_type": "code",
      "source": [
        "trgt=trgt[trgt['GHI']!=0]"
      ],
      "metadata": {
        "id": "wsSHedPX0RaH"
      },
      "execution_count": null,
      "outputs": []
    },
    {
      "cell_type": "code",
      "source": [
        "trgt_test=trgt_test[trgt_test['GHI']!=0]"
      ],
      "metadata": {
        "id": "zlr3c_pn0iF8"
      },
      "execution_count": null,
      "outputs": []
    },
    {
      "cell_type": "code",
      "source": [
        "trgt.drop(trgt.tail(1).index,inplace=True)"
      ],
      "metadata": {
        "id": "fQrOtb710oIc"
      },
      "execution_count": null,
      "outputs": []
    },
    {
      "cell_type": "code",
      "source": [
        "trgt_test.head()"
      ],
      "metadata": {
        "id": "eQcYt15V1_5T"
      },
      "execution_count": null,
      "outputs": []
    },
    {
      "cell_type": "code",
      "source": [
        "trgt['Datetime']=pd.to_datetime(trgt[['Year','Month','Day','Hour']])\n"
      ],
      "metadata": {
        "id": "sF3gvEik2Epo"
      },
      "execution_count": null,
      "outputs": []
    },
    {
      "cell_type": "code",
      "source": [
        "trgt.set_index('Datetime',inplace=True)"
      ],
      "metadata": {
        "id": "YahhFhff3f8D"
      },
      "execution_count": null,
      "outputs": []
    },
    {
      "cell_type": "code",
      "source": [
        "trgt.head()"
      ],
      "metadata": {
        "collapsed": true,
        "id": "_-vhlbHc4TYX"
      },
      "execution_count": null,
      "outputs": []
    },
    {
      "cell_type": "code",
      "source": [
        "trgt.sort_index(inplace=True)"
      ],
      "metadata": {
        "id": "00mnu_2A4dNI"
      },
      "execution_count": null,
      "outputs": []
    },
    {
      "cell_type": "code",
      "source": [
        "trgt.drop(['Year','Month','Day','Hour'],axis=1,inplace=True)"
      ],
      "metadata": {
        "id": "XpCZNlUS4gNH"
      },
      "execution_count": null,
      "outputs": []
    },
    {
      "cell_type": "code",
      "source": [
        "trgt_test['Datetime']=pd.to_datetime(trgt_test[['Year','Month','Day','Hour']])"
      ],
      "metadata": {
        "id": "7G-LnQHC4wty"
      },
      "execution_count": null,
      "outputs": []
    },
    {
      "cell_type": "code",
      "source": [
        "trgt_test.set_index('Datetime',inplace=True)\n",
        "trgt_test.sort_index(inplace=True)\n",
        "trgt_test.drop(['Year','Month','Day','Hour'],axis=1,inplace=True)"
      ],
      "metadata": {
        "id": "exdmHed546W-"
      },
      "execution_count": null,
      "outputs": []
    },
    {
      "cell_type": "code",
      "source": [
        "scaler=MinMaxScaler().set_output(transform='pandas')\n",
        "trgt=scaler.fit_transform(trgt)"
      ],
      "metadata": {
        "id": "WxEfKzsz5ZVq"
      },
      "execution_count": null,
      "outputs": []
    },
    {
      "cell_type": "code",
      "source": [
        "trgt_GHI=trgt[['GHI']].copy()"
      ],
      "metadata": {
        "id": "0trkuKnK6obK"
      },
      "execution_count": null,
      "outputs": []
    },
    {
      "cell_type": "code",
      "source": [
        "def create_sequences(data, sequence_length):\n",
        "    sequences = []\n",
        "    targets = []\n",
        "\n",
        "    for i in range(len(data) - sequence_length):\n",
        "        seq = data[i:i+sequence_length]\n",
        "        target = data.iloc[i+sequence_length]\n",
        "        sequences.append(seq)\n",
        "        targets.append(target)\n",
        "\n",
        "    return np.array(sequences), np.array(targets)"
      ],
      "metadata": {
        "id": "Zgq3i2eq61_V"
      },
      "execution_count": null,
      "outputs": []
    },
    {
      "cell_type": "code",
      "source": [
        "sequence_length=10\n",
        "_,y_train=create_sequences(trgt_GHI,sequence_length)"
      ],
      "metadata": {
        "id": "rG-9-4Kf68SN"
      },
      "execution_count": null,
      "outputs": []
    },
    {
      "cell_type": "code",
      "source": [
        "X_train,_=create_sequences(trgt,sequence_length)"
      ],
      "metadata": {
        "id": "sUwWmd51y0Kd"
      },
      "execution_count": null,
      "outputs": []
    },
    {
      "cell_type": "code",
      "source": [
        "y_train"
      ],
      "metadata": {
        "id": "y8PZnS0zzJbl"
      },
      "execution_count": null,
      "outputs": []
    },
    {
      "cell_type": "code",
      "source": [
        "scaler1=MinMaxScaler().set_output(transform='pandas')\n",
        "trgt_test_GHI=scaler1.fit_transform(trgt_test[['GHI']])"
      ],
      "metadata": {
        "id": "a0fGQOxP7Gzh"
      },
      "execution_count": null,
      "outputs": []
    },
    {
      "cell_type": "code",
      "source": [
        "scaler2=MinMaxScaler().set_output(transform='pandas')\n",
        "trgt_test=scaler2.fit_transform(trgt_test)"
      ],
      "metadata": {
        "id": "DfmtnS4g-Xz4"
      },
      "execution_count": null,
      "outputs": []
    },
    {
      "cell_type": "code",
      "source": [
        "trgt_test.head()"
      ],
      "metadata": {
        "id": "m_eym_Pr92uD"
      },
      "execution_count": null,
      "outputs": []
    },
    {
      "cell_type": "code",
      "source": [
        "trgt_test_GHI.head()"
      ],
      "metadata": {
        "id": "YFRTvdFY-kKL"
      },
      "execution_count": null,
      "outputs": []
    },
    {
      "cell_type": "code",
      "source": [
        "f,y_test=create_sequences(trgt_test_GHI,sequence_length)"
      ],
      "metadata": {
        "id": "H8lzHZDZ9UND"
      },
      "execution_count": null,
      "outputs": []
    },
    {
      "cell_type": "code",
      "source": [
        "X_test,r=create_sequences(trgt_test,sequence_length)"
      ],
      "metadata": {
        "id": "n3NFHIKo1UFc"
      },
      "execution_count": null,
      "outputs": []
    },
    {
      "cell_type": "code",
      "source": [
        "import tensorflow as tf\n",
        "from ncps.tf import LTC\n",
        "from ncps.tf import CfC"
      ],
      "metadata": {
        "id": "XYPHC2y99Z04"
      },
      "execution_count": null,
      "outputs": []
    },
    {
      "cell_type": "code",
      "source": [
        "from tensorflow.keras.callbacks import EarlyStopping\n"
      ],
      "metadata": {
        "id": "o05nHllYnqFr"
      },
      "execution_count": null,
      "outputs": []
    },
    {
      "cell_type": "code",
      "source": [
        "early_stopping=EarlyStopping(monitor='loss',patience=10,restore_best_weights=True)"
      ],
      "metadata": {
        "id": "Ujss_-jWnwMv"
      },
      "execution_count": null,
      "outputs": []
    },
    {
      "cell_type": "code",
      "source": [
        "model_2=tf.keras.Sequential([       CfC(64,return_sequences=True),\n",
        "\n",
        "                                   CfC(32),\n",
        "\n",
        "                             tf.keras.layers.Dense(1)\n",
        "                             ]\n",
        ")  #here, replace with lstm and ltc as per need."
      ],
      "metadata": {
        "id": "HJYMCUYcNOSO"
      },
      "execution_count": null,
      "outputs": []
    },
    {
      "cell_type": "code",
      "source": [],
      "metadata": {
        "id": "iIjB7oftFfuU"
      },
      "execution_count": null,
      "outputs": []
    },
    {
      "cell_type": "code",
      "source": [
        "model_2.compile(loss='mse',optimizer='adam')\n",
        "model_2.fit(X_train,y_train,epochs=25,callbacks=[early_stopping])"
      ],
      "metadata": {
        "id": "wHeLctoPNd02"
      },
      "execution_count": null,
      "outputs": []
    },
    {
      "cell_type": "code",
      "source": [
        "from sklearn.metrics import mean_squared_error\n",
        "y_pred=model_2.predict(X_test)"
      ],
      "metadata": {
        "id": "UaXzxNrKwN9I"
      },
      "execution_count": null,
      "outputs": []
    },
    {
      "cell_type": "code",
      "source": [
        "y_pred=scaler1.inverse_transform(y_pred)\n",
        "y_test=scaler1.inverse_transform(y_test)"
      ],
      "metadata": {
        "id": "6xGeXHZo6fX_"
      },
      "execution_count": null,
      "outputs": []
    },
    {
      "cell_type": "code",
      "source": [
        "rmse=np.sqrt(mean_squared_error(y_test,y_pred))\n",
        "print(rmse)\n"
      ],
      "metadata": {
        "id": "ciwzsZHR6pGA"
      },
      "execution_count": null,
      "outputs": []
    },
    {
      "cell_type": "code",
      "source": [
        "from sklearn.metrics import r2_score"
      ],
      "metadata": {
        "id": "NEnZ8WBp619s"
      },
      "execution_count": null,
      "outputs": []
    },
    {
      "cell_type": "code",
      "source": [
        "print(r2_score(y_test,y_pred))"
      ],
      "metadata": {
        "id": "3z2xZMHb69oo"
      },
      "execution_count": null,
      "outputs": []
    },
    {
      "cell_type": "code",
      "source": [
        "from sklearn.metrics import mean_absolute_error,mean_absolute_percentage_error"
      ],
      "metadata": {
        "id": "yg9eKffQ7MZF"
      },
      "execution_count": null,
      "outputs": []
    },
    {
      "cell_type": "code",
      "source": [
        "print(mean_absolute_error(y_test,y_pred))\n"
      ],
      "metadata": {
        "id": "q0J3BiVfOBDv"
      },
      "execution_count": null,
      "outputs": []
    }
  ]
}